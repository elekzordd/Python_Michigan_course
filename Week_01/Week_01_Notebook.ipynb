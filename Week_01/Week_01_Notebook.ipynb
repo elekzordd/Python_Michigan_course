{
 "cells": [
  {
   "cell_type": "markdown",
   "id": "d0f43fde-1ff4-48df-b6b4-5eb45f3ffb4c",
   "metadata": {},
   "source": [
    "# Week 01\n",
    "## Notebook"
   ]
  },
  {
   "cell_type": "code",
   "execution_count": 4,
   "id": "43095eb0-fe65-47fe-89eb-9232d33a362b",
   "metadata": {
    "tags": []
   },
   "outputs": [
    {
     "name": "stdout",
     "output_type": "stream",
     "text": [
      "2024-03-03 21:51:35.830822\n"
     ]
    }
   ],
   "source": [
    "import datetime\n",
    "time = datetime.datetime.now()\n",
    "\n",
    "print(time)"
   ]
  },
  {
   "cell_type": "code",
   "execution_count": null,
   "id": "ebed0e8c-8897-4e3a-a8ef-426d1abf8ff0",
   "metadata": {},
   "outputs": [],
   "source": []
  }
 ],
 "metadata": {
  "kernelspec": {
   "display_name": "Python 3 (ipykernel)",
   "language": "python",
   "name": "python3"
  },
  "language_info": {
   "codemirror_mode": {
    "name": "ipython",
    "version": 3
   },
   "file_extension": ".py",
   "mimetype": "text/x-python",
   "name": "python",
   "nbconvert_exporter": "python",
   "pygments_lexer": "ipython3",
   "version": "3.11.8"
  }
 },
 "nbformat": 4,
 "nbformat_minor": 5
}
